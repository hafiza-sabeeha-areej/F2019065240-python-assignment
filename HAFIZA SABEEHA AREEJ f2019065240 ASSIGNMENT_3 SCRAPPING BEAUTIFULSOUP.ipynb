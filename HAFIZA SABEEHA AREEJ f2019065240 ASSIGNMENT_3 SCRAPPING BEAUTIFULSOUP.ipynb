{
  "cells": [
    {
      "cell_type": "code",
      "execution_count": null,
      "metadata": {
        "colab": {
          "base_uri": "https://localhost:8080/"
        },
        "id": "fNckJDLmkYXY",
        "outputId": "4dd9da64-4040-4158-8081-bcf07ba6f9cc"
      },
      "outputs": [
        {
          "name": "stdout",
          "output_type": "stream",
          "text": [
            "Requirement already satisfied: beautifulsoup4 in /usr/local/lib/python3.7/dist-packages (4.6.3)\n"
          ]
        }
      ],
      "source": [
        "!pip install beautifulsoup4\n",
        "from bs4 import BeautifulSoup\n",
        "import requests\n",
        "url=\"https://go.drugbank.com/covid-19#drugs\"\n",
        "page=requests.get(url)\n",
        "page.content\n",
        "source=BeautifulSoup(page.content,\"html.parser\")\n",
        "\n",
        "\n"
      ]
    },
    {
      "cell_type": "markdown",
      "metadata": {},
      "source": []
    },
    {
      "cell_type": "code",
      "execution_count": null,
      "metadata": {
        "colab": {
          "base_uri": "https://localhost:8080/"
        },
        "id": "8w5EetaSzX1b",
        "outputId": "de2e940b-70e0-457e-ec43-79acc791cb02"
      },
      "outputs": [
        {
          "name": "stdout",
          "output_type": "stream",
          "text": [
            "Ritonavir\n",
            "Chloroquine\n",
            "Darunavir\n",
            "Lopinavir\n",
            "Galidesivir\n",
            "Favipiravir\n",
            "Umifenovir\n",
            "Human interferon beta\n",
            "Triazavirin\n",
            "TMC-310911\n",
            "Moderna COVID-19 Vaccine\n",
            "Ad5-nCoV\n",
            "AstraZeneca COVID-19 Vaccine\n",
            "Fingolimod\n",
            "Methylprednisolone\n",
            "Bevacizumab\n",
            "Leronlimab\n",
            "Azithromycin\n",
            "N4-Hydroxycytidine\n",
            "Molnupiravir\n",
            "Elbasvir\n",
            "Tocilizumab\n",
            "GS-441524\n",
            "Tridecactide\n",
            "Metenkefalin\n",
            "Vazegepant\n",
            "Ibuprofen\n",
            "Anti-SARS-CoV-2 REGN-COV2\n",
            "Dexamethasone\n",
            "COVID-19 convalescent plasma\n",
            "INO-4800\n",
            "BNT162b1 SARS-CoV-2 Vaccine\n",
            "BNT162a1 SARS-CoV-2 Vaccine\n",
            "BNT162c2 SARS-CoV-2 Vaccine\n",
            "Colchicine\n",
            "Bamlanivimab\n",
            "AZD7442\n",
            "GC-376 free acid\n",
            "GC-373\n",
            "Ifenprodil\n",
            "Abivertinib\n",
            "Etesevimab\n",
            "Baricitinib\n",
            "Subasumstat\n",
            "Alunacedase alfa\n",
            "Zansecimab\n",
            "Goflikicept\n",
            "Azvudine\n",
            "Mosedipimod\n",
            "Thymoquinone\n",
            "CD24Fc\n",
            "Tin protoporphyrin IX\n",
            "Rexin G\n",
            "AT-527\n",
            "Meplazumab\n",
            "Oleic monoethanolamide\n",
            "MAS825\n",
            "ATYR1923\n",
            "Pam2csk4\n",
            "Carrimycin\n",
            "Inbakicept\n",
            "PF-07304814\n",
            "Nirmatrelvir\n",
            "Fostamatinib\n",
            "Sotrovimab\n",
            "MM3122\n",
            "Cilgavimab\n",
            "Tixagevimab\n"
          ]
        }
      ],
      "source": [
        "K=source.find_all(\"table\")\n",
        "T=K[2]\n",
        "h=T.find_all(\"a\")\n",
        "for x in h:\n",
        "    print(x.text)\n"
      ]
    }
  ],
  "metadata": {
    "colab": {
      "collapsed_sections": [],
      "name": "Copy of ASSIGNMENT_2 Python.ipynb",
      "provenance": [],
      "toc_visible": true
    },
    "kernelspec": {
      "display_name": "Python 3",
      "name": "python3"
    },
    "language_info": {
      "name": "python"
    }
  },
  "nbformat": 4,
  "nbformat_minor": 0
}
